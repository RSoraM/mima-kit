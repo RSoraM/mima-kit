{
 "cells": [
  {
   "cell_type": "markdown",
   "id": "1d8e50e6",
   "metadata": {},
   "source": [
    "# Elliptic curve Operation (Sage Math)"
   ]
  },
  {
   "cell_type": "markdown",
   "id": "ea8472ae",
   "metadata": {},
   "source": [
    "## 二进制域"
   ]
  },
  {
   "cell_type": "markdown",
   "id": "cedbb490",
   "metadata": {},
   "source": [
    "sect163r1、sect163k1"
   ]
  },
  {
   "cell_type": "code",
   "execution_count": 68,
   "id": "177626b0",
   "metadata": {
    "vscode": {
     "languageId": "sage"
    }
   },
   "outputs": [
    {
     "name": "stdout",
     "output_type": "stream",
     "text": [
      "ip: 0x800000000000000000000000000000000000000c9 -> x^163 + x^7 + x^6 + x^3 + 1\n"
     ]
    }
   ],
   "source": [
    "m = 163\n",
    "x = var('x')\n",
    "ip = x^163 + x^7 + x^6 + x^3 + 1\n",
    "GF2m.<z> = GF(2^m, ip)\n",
    "print(f\"ip: {hex(ip.subs(x=2))} -> {ip}\")"
   ]
  },
  {
   "cell_type": "markdown",
   "id": "adcdc886",
   "metadata": {},
   "source": [
    "### 运算"
   ]
  },
  {
   "cell_type": "code",
   "execution_count": 69,
   "id": "5181255e",
   "metadata": {
    "vscode": {
     "languageId": "sage"
    }
   },
   "outputs": [
    {
     "name": "stdout",
     "output_type": "stream",
     "text": [
      "x: 0x1dbfd60b8bc7b317ee5b82b49bc4331d3516c4226 -> z^160 + z^159 + z^158 + z^156 + z^155 + z^153 + z^152 + z^151 + z^150 + z^149 + z^148 + z^147 + z^146 + z^144 + z^142 + z^141 + z^135 + z^133 + z^132 + z^131 + z^127 + z^125 + z^124 + z^123 + z^122 + z^118 + z^117 + z^116 + z^115 + z^113 + z^112 + z^109 + z^108 + z^104 + z^102 + z^101 + z^100 + z^99 + z^98 + z^97 + z^95 + z^94 + z^93 + z^90 + z^88 + z^87 + z^85 + z^84 + z^83 + z^77 + z^75 + z^73 + z^72 + z^70 + z^67 + z^64 + z^63 + z^61 + z^60 + z^59 + z^58 + z^54 + z^49 + z^48 + z^45 + z^44 + z^40 + z^39 + z^38 + z^36 + z^33 + z^32 + z^30 + z^28 + z^24 + z^22 + z^21 + z^19 + z^18 + z^14 + z^9 + z^5 + z^2 + z\n",
      "y: 0x3cb11cbd786bf745c8ffa5cfeb34a2e89e3d5514b -> z^161 + z^160 + z^159 + z^158 + z^155 + z^153 + z^152 + z^148 + z^144 + z^143 + z^142 + z^139 + z^137 + z^136 + z^135 + z^134 + z^132 + z^130 + z^129 + z^128 + z^127 + z^122 + z^121 + z^119 + z^117 + z^116 + z^115 + z^114 + z^113 + z^112 + z^110 + z^109 + z^108 + z^106 + z^102 + z^100 + z^99 + z^98 + z^95 + z^91 + z^90 + z^89 + z^88 + z^87 + z^86 + z^85 + z^84 + z^83 + z^81 + z^78 + z^76 + z^75 + z^74 + z^71 + z^70 + z^69 + z^68 + z^67 + z^66 + z^65 + z^63 + z^61 + z^60 + z^57 + z^56 + z^54 + z^51 + z^49 + z^45 + z^43 + z^42 + z^41 + z^39 + z^35 + z^32 + z^31 + z^30 + z^29 + z^25 + z^24 + z^23 + z^22 + z^20 + z^18 + z^16 + z^14 + z^12 + z^8 + z^6 + z^3 + z + 1\n",
      "x + y: 0x210ecab6f3ac445226a4277b70f091f5ab2b9136d\n",
      "x - y: 0x210ecab6f3ac445226a4277b70f091f5ab2b9136d\n",
      "x * y: 0xe1425e42292cd16d6b6eaf8a0cf9f9b59be5b720\n",
      "x / y: 0x5465392d46497ef0f837a62b7ab9ce9acae211f12\n",
      "x^2: 0x6e157102393d623eb377ab890ccb9dc492f0916a7\n",
      "x^(-1): 0x511d27b568f484e177fcec85712e7c3ea44d59bb0\n",
      "sqrt(x): 0x7aa6a350395887f4d27f4dc468c5377b0eb2462e1\n",
      "x^y: 0x4b70bd3d9949890ac03a284cd6996cd29c46088f4\n"
     ]
    }
   ],
   "source": [
    "x = GF2m.from_integer(0x1dbfd60b8bc7b317ee5b82b49bc4331d3516c4226)\n",
    "y = GF2m.from_integer(0x3cb11cbd786bf745c8ffa5cfeb34a2e89e3d5514b)\n",
    "# x = GF2m.random_element()\n",
    "# y = GF2m.random_element()\n",
    "print(f\"x: {hex(x.to_integer())} -> {x}\")\n",
    "print(f\"y: {hex(y.to_integer())} -> {y}\")\n",
    "result = x + y\n",
    "print(f\"x + y: {hex(result.to_integer())}\")\n",
    "result = x - y\n",
    "print(f\"x - y: {hex(result.to_integer())}\")\n",
    "result = x * y\n",
    "print(f\"x * y: {hex(result.to_integer())}\")\n",
    "result = x / y\n",
    "print(f\"x / y: {hex(result.to_integer())}\")\n",
    "result = x^2\n",
    "print(f\"x^2: {hex(result.to_integer())}\")\n",
    "result = x^(-1)\n",
    "print(f\"x^(-1): {hex(result.to_integer())}\")\n",
    "result = x.sqrt()\n",
    "print(f\"sqrt(x): {hex(result.to_integer())}\")\n",
    "result = x^(y.to_integer())\n",
    "print(f\"x^y: {hex(result.to_integer())}\")"
   ]
  },
  {
   "cell_type": "markdown",
   "id": "562be122",
   "metadata": {},
   "source": [
    "### 椭圆曲线"
   ]
  },
  {
   "cell_type": "markdown",
   "id": "4b61c8cc",
   "metadata": {},
   "source": [
    "#### 随机椭圆曲线 (sect163r1)"
   ]
  },
  {
   "cell_type": "markdown",
   "id": "12eab1f2",
   "metadata": {},
   "source": [
    "y^2 + x*y = x^3 + A*x^2 + B"
   ]
  },
  {
   "cell_type": "code",
   "execution_count": 70,
   "id": "afa1d06b",
   "metadata": {
    "vscode": {
     "languageId": "sage"
    }
   },
   "outputs": [],
   "source": [
    "A = GF2m.from_integer(0x07B6882CAAEFA84F9554FF8428BD88E246D2782AE2)\n",
    "B = GF2m.from_integer(0x0713612DCDDCB40AAB946BDA29CA91F73AF958AFD9)\n",
    "ECb = EllipticCurve(GF2m, [1, A, 0, 0, B])"
   ]
  },
  {
   "cell_type": "markdown",
   "id": "c87caa13",
   "metadata": {},
   "source": [
    "##### 基点"
   ]
  },
  {
   "cell_type": "code",
   "execution_count": 71,
   "id": "77e422b5",
   "metadata": {
    "vscode": {
     "languageId": "sage"
    }
   },
   "outputs": [],
   "source": [
    "Gx = GF2m.from_integer(0x0369979697AB43897789566789567F787A7876A654)\n",
    "Gy = GF2m.from_integer(0x00435EDB42EFAFB2989D51FEFCE3C80988F41FF883)\n",
    "G = ECb(Gx, Gy)"
   ]
  },
  {
   "cell_type": "markdown",
   "id": "b9ce061e",
   "metadata": {},
   "source": [
    "##### Jacobian 坐标系"
   ]
  },
  {
   "cell_type": "code",
   "execution_count": 72,
   "id": "b439ad6b",
   "metadata": {
    "vscode": {
     "languageId": "sage"
    }
   },
   "outputs": [
    {
     "name": "stdout",
     "output_type": "stream",
     "text": [
      "Jx = 0x959ca054cdbb232affe046b20aabb5876421ab5\n",
      "Jy = 0x1a9930e92efca6cfefe66561d71e59a33b1fa79bb\n",
      "Jz = 0x1f75028fbc733c2db6c0a26bf909d5baee092229d\n"
     ]
    }
   ],
   "source": [
    "Jz = GF2m.random_element()\n",
    "Jx = Gx * Jz^2\n",
    "Jy = Gy * Jz^3\n",
    "print(f\"Jx = {hex(Jx.to_integer())}\")\n",
    "print(f\"Jy = {hex(Jy.to_integer())}\")\n",
    "print(f\"Jz = {hex(Jz.to_integer())}\")"
   ]
  },
  {
   "cell_type": "markdown",
   "id": "2093c74b",
   "metadata": {},
   "source": [
    "##### López-Dahab 坐标系"
   ]
  },
  {
   "cell_type": "code",
   "execution_count": 73,
   "id": "ac0df035",
   "metadata": {
    "vscode": {
     "languageId": "sage"
    }
   },
   "outputs": [
    {
     "name": "stdout",
     "output_type": "stream",
     "text": [
      "Lx = 0x7422fb7b60ac486e3ab0a3a73281480fa9dad5ead\n",
      "Ly = 0x38bbf17705658f03d9b3fdca9f1694b4059b19c65\n",
      "Lz = 0x4581d79888b23905c7fffb8b7feb862be5f73eb98\n"
     ]
    }
   ],
   "source": [
    "# Lz = GF2m.random_element()\n",
    "Lz = GF2m.from_integer(0x4581D79888B23905C7FFFB8B7FEB862BE5F73EB98)\n",
    "Lx = Gx * Lz\n",
    "Ly = Gy * Lz^2\n",
    "print(f\"Lx = {hex(Lx.to_integer())}\")\n",
    "print(f\"Ly = {hex(Ly.to_integer())}\")\n",
    "print(f\"Lz = {hex(Lz.to_integer())}\")"
   ]
  },
  {
   "cell_type": "markdown",
   "id": "e1876240",
   "metadata": {},
   "source": [
    "##### 点加法"
   ]
  },
  {
   "cell_type": "code",
   "execution_count": 74,
   "id": "2760fd2c",
   "metadata": {
    "vscode": {
     "languageId": "sage"
    }
   },
   "outputs": [
    {
     "name": "stdout",
     "output_type": "stream",
     "text": [
      "G2 = G + G\n",
      "x = 0x4e1456ffead56a68862e3006a87bcf6d6fc3672b4\n",
      "y = 0x223f5dd8ab164d4e51d903623764f48a787e528a8\n",
      "\n",
      "G3 = G2 + G\n",
      "x = 0x48a0a8a89d53dfb023ea98cee93381c6715aa87d1\n",
      "y = 0x6be5460da1ad9ac2eff25554ddb5fe237bae5d412\n",
      "\n",
      "G4 = G3 + G\n",
      "x = 0x6580f74ee239912537f7c8bf2c2d9320d448f0057\n",
      "y = 0x7e641d37c09c6b64909dac22a1627d63c428dccc9\n"
     ]
    }
   ],
   "source": [
    "G2 = G + G\n",
    "G3 = G2 + G\n",
    "G4 = G3 + G\n",
    "x, y = G2.xy()\n",
    "print(\"G2 = G + G\")\n",
    "print(f\"x = {hex(x.to_integer())}\")\n",
    "print(f\"y = {hex(y.to_integer())}\")\n",
    "print()\n",
    "x, y = G3.xy()\n",
    "print(\"G3 = G2 + G\")\n",
    "print(f\"x = {hex(x.to_integer())}\")\n",
    "print(f\"y = {hex(y.to_integer())}\")\n",
    "print()\n",
    "x, y = G4.xy()\n",
    "print(\"G4 = G3 + G\")\n",
    "print(f\"x = {hex(x.to_integer())}\")\n",
    "print(f\"y = {hex(y.to_integer())}\")\n",
    "assert G4 == G2 + G2"
   ]
  },
  {
   "cell_type": "markdown",
   "id": "57916b8b",
   "metadata": {},
   "source": [
    "##### 标量乘法"
   ]
  },
  {
   "cell_type": "code",
   "execution_count": 75,
   "id": "43ab63ac",
   "metadata": {
    "vscode": {
     "languageId": "sage"
    }
   },
   "outputs": [
    {
     "name": "stdout",
     "output_type": "stream",
     "text": [
      "Gn = G * 8731870941184819475799947245630709385883641160251\n",
      "x = 0x2c78b4d66711cf62ca0fac917690671e546dbb0e3\n",
      "y = 0x602d79f7e63ead2af3b687d1a89a68a56bfcd7eda\n"
     ]
    }
   ],
   "source": [
    "# n = GF2m.random_element().to_integer()\n",
    "n = 8731870941184819475799947245630709385883641160251\n",
    "Gn = G * n\n",
    "x, y = Gn.xy()\n",
    "print(f\"Gn = G * {n}\")\n",
    "print(f\"x = {hex(x.to_integer())}\")\n",
    "print(f\"y = {hex(y.to_integer())}\")"
   ]
  },
  {
   "cell_type": "markdown",
   "id": "c0a59c75",
   "metadata": {},
   "source": [
    "#### Koblitz 曲线  (sect163k1)"
   ]
  },
  {
   "cell_type": "markdown",
   "id": "f98c3953",
   "metadata": {},
   "source": [
    "y^2 + x*y = x^3 + A*x^2 + B"
   ]
  },
  {
   "cell_type": "code",
   "execution_count": 76,
   "id": "0392bc74",
   "metadata": {
    "vscode": {
     "languageId": "sage"
    }
   },
   "outputs": [],
   "source": [
    "A = GF2m.from_integer(1)\n",
    "B = GF2m.from_integer(1)\n",
    "ECb = EllipticCurve(GF2m, [1, A, 0, 0, B])"
   ]
  },
  {
   "cell_type": "markdown",
   "id": "34d0e2a4",
   "metadata": {},
   "source": [
    "##### 基点"
   ]
  },
  {
   "cell_type": "code",
   "execution_count": 77,
   "id": "74729250",
   "metadata": {
    "vscode": {
     "languageId": "sage"
    }
   },
   "outputs": [],
   "source": [
    "Gx = GF2m.from_integer(0x02FE13C0537BBC11ACAA07D793DE4E6D5E5C94EEE8)\n",
    "Gy = GF2m.from_integer(0x0289070FB05D38FF58321F2E800536D538CCDAA3D9)\n",
    "G = ECb(Gx, Gy)"
   ]
  },
  {
   "cell_type": "markdown",
   "id": "30ec4ce4",
   "metadata": {},
   "source": [
    "##### 点加法"
   ]
  },
  {
   "cell_type": "code",
   "execution_count": 78,
   "id": "a49dd5f0",
   "metadata": {
    "vscode": {
     "languageId": "sage"
    }
   },
   "outputs": [
    {
     "name": "stdout",
     "output_type": "stream",
     "text": [
      "G2 = G + G\n",
      "x = 0xcb5ca2738fe300aacfb00b42a77b828d8a5c41eb\n",
      "y = 0x229c79e9ab85f90acd3d5fa3a696664515efefa6b\n",
      "\n",
      "G3 = G2 + G\n",
      "x = 0x2acfcfcc9a2af8e3f2828024f820033db20f69520\n",
      "y = 0x5729c47f915badc7b4c17df14e5804109ffecdfe4\n",
      "\n",
      "G4 = G3 + G\n",
      "x = 0xba8c7e6e2523ef94cbc1e56facfede24f3f91578\n",
      "y = 0x510f96cbc41cf3bdfa0157e9e8fee2c605791db0d\n"
     ]
    }
   ],
   "source": [
    "G2 = G + G\n",
    "G3 = G2 + G\n",
    "G4 = G3 + G\n",
    "x, y = G2.xy()\n",
    "print(\"G2 = G + G\")\n",
    "print(f\"x = {hex(x.to_integer())}\")\n",
    "print(f\"y = {hex(y.to_integer())}\")\n",
    "print()\n",
    "x, y = G3.xy()\n",
    "print(\"G3 = G2 + G\")\n",
    "print(f\"x = {hex(x.to_integer())}\")\n",
    "print(f\"y = {hex(y.to_integer())}\")\n",
    "print()\n",
    "x, y = G4.xy()\n",
    "print(\"G4 = G3 + G\")\n",
    "print(f\"x = {hex(x.to_integer())}\")\n",
    "print(f\"y = {hex(y.to_integer())}\")\n",
    "assert G4 == G2 + G2"
   ]
  },
  {
   "cell_type": "markdown",
   "id": "352d35ee",
   "metadata": {},
   "source": [
    "##### 标量乘法"
   ]
  },
  {
   "cell_type": "code",
   "execution_count": 79,
   "id": "72410142",
   "metadata": {
    "vscode": {
     "languageId": "sage"
    }
   },
   "outputs": [
    {
     "name": "stdout",
     "output_type": "stream",
     "text": [
      "Gn = G * 860749895544662177846543624795725813985896149794\n",
      "x = 0xfd34391fc1240e14c36d6749328a5591b63983c0\n",
      "y = 0x3aec697608e7252b72147591fa8aebc4ccfc8a9dd\n"
     ]
    }
   ],
   "source": [
    "# n = GF2m.random_element().to_integer()\n",
    "n = 860749895544662177846543624795725813985896149794\n",
    "Gn = G * n\n",
    "x, y = Gn.xy()\n",
    "print(f\"Gn = G * {n}\")\n",
    "print(f\"x = {hex(x.to_integer())}\")\n",
    "print(f\"y = {hex(y.to_integer())}\")"
   ]
  },
  {
   "cell_type": "markdown",
   "id": "2b337a60",
   "metadata": {},
   "source": [
    "## 素域"
   ]
  },
  {
   "cell_type": "markdown",
   "id": "690ff854",
   "metadata": {},
   "source": [
    "###  运算 (p = 2^255 - 19)"
   ]
  },
  {
   "cell_type": "code",
   "execution_count": 80,
   "id": "5b1dd9ca",
   "metadata": {
    "vscode": {
     "languageId": "sage"
    }
   },
   "outputs": [
    {
     "name": "stdout",
     "output_type": "stream",
     "text": [
      "p: 0x7fffffffffffffffffffffffffffffffffffffffffffffffffffffffffffffed -> 57896044618658097711785492504343953926634992332820282019728792003956564819949\n",
      "x: 0x6c533682766ed5fb0cf26af5dd566e29922a5337ed849aab78f697d80e60d885 -> 48996812164937614909591619877671342122417362642894243494432705639003946276997\n",
      "y: 0x3de8bb63832a430eb26b4d6bcccc49e30b1429b75c14f989a32fd8305e074164 -> 28002285592022700502113767362772125132909967119529347116973792415031772004708\n",
      "x + y: 0x2a3bf1e5f9991909bf5db861aa22b80c9d3e7cef499994351c2670086c6819fc\n",
      "x - y: 0x2e6a7b1ef34492ec5a871d8a108a244687162980916fa121d5c6bfa7b0599721\n",
      "x * y: 0x6800a96cab0f23cdfe657ea1ea0e7d7fefcfb0ed95559c1606802431397fd6f3\n",
      "x / y: 0x19c6491be351df42a7051ea6427adddd9bc680c09352bdba34ab6022bc1bc836\n",
      "x^2: 0x68a61fc28d771792c9d831df25d69dce3f3d1248bd3fcb75ba330ee13959c59\n",
      "x^(-1): 0x2c8f6a2d142f9272c7895d50283498870da0dd1af5e2d3eef17df13ac8af9492\n",
      "sqrt(x): 0x536ac59c96afcb1dd81a43179cf5e600123b9dce9c11730d5710cd03a18b533\n",
      "x^y: 0x60b2782342839e41a9d315327fa38b95992b2a36269ce5b7e5b61a91798b58bb\n"
     ]
    }
   ],
   "source": [
    "p = 0x7FFFFFFFFFFFFFFFFFFFFFFFFFFFFFFFFFFFFFFFFFFFFFFFFFFFFFFFFFFFFFED\n",
    "GFp = GF(p)\n",
    "x = GFp(0x6C533682766ED5FB0CF26AF5DD566E29922A5337ED849AAB78F697D80E60D885)\n",
    "y = GFp(0x3DE8BB63832A430EB26B4D6BCCCC49E30B1429B75C14F989A32FD8305E074164)\n",
    "# x = GFp.random_element()\n",
    "# y = GFp.random_element()\n",
    "print(f\"p: {hex(p)} -> {p}\")\n",
    "print(f\"x: {hex(x)} -> {x}\")\n",
    "print(f\"y: {hex(y)} -> {y}\")\n",
    "result = x + y\n",
    "print(f\"x + y: {hex(result)}\")\n",
    "result = x - y\n",
    "print(f\"x - y: {hex(result)}\")\n",
    "result = x * y\n",
    "print(f\"x * y: {hex(result)}\")\n",
    "result = x / y\n",
    "print(f\"x / y: {hex(result)}\")\n",
    "result = x^2\n",
    "print(f\"x^2: {hex(result)}\")\n",
    "result = x^(-1)\n",
    "print(f\"x^(-1): {hex(result)}\")\n",
    "result = x.sqrt()\n",
    "print(f\"sqrt(x): {hex(result)}\")\n",
    "result = x^y\n",
    "print(f\"x^y: {hex(result)}\")"
   ]
  },
  {
   "cell_type": "markdown",
   "id": "d0a316f8",
   "metadata": {},
   "source": [
    "### 椭圆曲线"
   ]
  },
  {
   "cell_type": "markdown",
   "id": "03dcd423",
   "metadata": {},
   "source": [
    "#### Weierstrass 曲线 (secp160r1)"
   ]
  },
  {
   "cell_type": "markdown",
   "id": "ae0c3849",
   "metadata": {},
   "source": [
    "y^2 = x^3 + A*x + B"
   ]
  },
  {
   "cell_type": "code",
   "execution_count": 81,
   "id": "94263e5f",
   "metadata": {
    "vscode": {
     "languageId": "sage"
    }
   },
   "outputs": [],
   "source": [
    "p = 0xFFFFFFFFFFFFFFFFFFFFFFFFFFFFFFFF7FFFFFFF\n",
    "GFp = GF(p)\n",
    "A = 0xFFFFFFFFFFFFFFFFFFFFFFFFFFFFFFFF7FFFFFFC\n",
    "B = 0x1C97BEFC54BD7A8B65ACF89F81D4D4ADC565FA45\n",
    "ECp = EllipticCurve(GFp, [0, 0, 0, A, B])"
   ]
  },
  {
   "cell_type": "markdown",
   "id": "82ea177e",
   "metadata": {},
   "source": [
    "##### 基点"
   ]
  },
  {
   "cell_type": "code",
   "execution_count": 82,
   "id": "9926f9da",
   "metadata": {
    "vscode": {
     "languageId": "sage"
    }
   },
   "outputs": [],
   "source": [
    "Gx = 0x4A96B5688EF573284664698968C38BB913CBFC82\n",
    "Gy = 0x23A628553168947D59DCC912042351377AC5FB32\n",
    "G = ECp(Gx, Gy)"
   ]
  },
  {
   "cell_type": "markdown",
   "id": "eff1b6a6",
   "metadata": {},
   "source": [
    "##### Jacobian 坐标系"
   ]
  },
  {
   "cell_type": "code",
   "execution_count": 83,
   "id": "bbc5f645",
   "metadata": {
    "vscode": {
     "languageId": "sage"
    }
   },
   "outputs": [
    {
     "name": "stdout",
     "output_type": "stream",
     "text": [
      "Jx = 0xd6276d5036f00c131125638b1d5fac1021b6b762\n",
      "Jy = 0x9f3fd493f2ba89c915c4cdee207a4f3be497a966\n",
      "Jz = 0xc8836b646f23f860e356efac7d9292a3b2f88b6e\n"
     ]
    }
   ],
   "source": [
    "Jz = GFp.random_element()\n",
    "Jx = Gx * Jz^2\n",
    "Jy = Gy * Jz^3\n",
    "print(f\"Jx = {hex(Jx)}\")\n",
    "print(f\"Jy = {hex(Jy)}\")\n",
    "print(f\"Jz = {hex(Jz)}\")"
   ]
  },
  {
   "cell_type": "markdown",
   "id": "4664580a",
   "metadata": {},
   "source": [
    "##### 点加法"
   ]
  },
  {
   "cell_type": "code",
   "execution_count": 84,
   "id": "8ac8c1ae",
   "metadata": {
    "vscode": {
     "languageId": "sage"
    }
   },
   "outputs": [
    {
     "name": "stdout",
     "output_type": "stream",
     "text": [
      "G2 = G + G\n",
      "x = 0x2f997f33c5ed04c55d3edf8675d3e92e8f46686\n",
      "y = 0xf083a323482993e9440e817e21cfb7737df8797b\n",
      "\n",
      "G3 = G2 + G\n",
      "x = 0x7b76ff541ef363f2df13de1650bd48daa958bc59\n",
      "y = 0xc915ca790d8c8877b55be0079d12854ffe9f6f5a\n",
      "\n",
      "G4 = G3 + G\n",
      "x = 0xb4041d8683be99f0afe01c307b1ad4c100cf2a88\n",
      "y = 0x3f32caed841f08c00660cc74caf4a5bcf9beed08\n"
     ]
    }
   ],
   "source": [
    "G2 = G + G\n",
    "G3 = G2 + G\n",
    "G4 = G3 + G\n",
    "x, y = G2.xy()\n",
    "print(\"G2 = G + G\")\n",
    "print(f\"x = {hex(x)}\")\n",
    "print(f\"y = {hex(y)}\")\n",
    "print()\n",
    "x, y = G3.xy()\n",
    "print(\"G3 = G2 + G\")\n",
    "print(f\"x = {hex(x)}\")\n",
    "print(f\"y = {hex(y)}\")\n",
    "print()\n",
    "x, y = G4.xy()\n",
    "print(\"G4 = G3 + G\")\n",
    "print(f\"x = {hex(x)}\")\n",
    "print(f\"y = {hex(y)}\")\n",
    "assert G4 == G2 + G2"
   ]
  },
  {
   "cell_type": "markdown",
   "id": "7f160193",
   "metadata": {},
   "source": [
    "##### 标量乘法"
   ]
  },
  {
   "cell_type": "code",
   "execution_count": 85,
   "id": "9129ef47",
   "metadata": {
    "vscode": {
     "languageId": "sage"
    }
   },
   "outputs": [
    {
     "name": "stdout",
     "output_type": "stream",
     "text": [
      "Gn = G * 520883674333875308841598528610693034323391171945\n",
      "x = 0x6fcc9f4a03a1432381c74dc478ab79a6845d101e\n",
      "y = 0x58453abb84f81edc065373215e59281855628d33\n"
     ]
    }
   ],
   "source": [
    "# n = GFp.random_element()\n",
    "n = 520883674333875308841598528610693034323391171945\n",
    "Gn = G * n\n",
    "x, y = Gn.xy()\n",
    "print(f\"Gn = G * {n}\")\n",
    "print(f\"x = {hex(x)}\")\n",
    "print(f\"y = {hex(y)}\")"
   ]
  },
  {
   "cell_type": "markdown",
   "id": "c11533c8",
   "metadata": {},
   "source": [
    "#### Montgomery 曲线 (curve25519)"
   ]
  },
  {
   "cell_type": "markdown",
   "id": "bfffce6e",
   "metadata": {},
   "source": [
    "y^2 = x^3 + A*x^2 + x"
   ]
  },
  {
   "cell_type": "code",
   "execution_count": 86,
   "id": "f3acd3cf",
   "metadata": {
    "vscode": {
     "languageId": "sage"
    }
   },
   "outputs": [],
   "source": [
    "p = 0x7FFFFFFFFFFFFFFFFFFFFFFFFFFFFFFFFFFFFFFFFFFFFFFFFFFFFFFFFFFFFFED\n",
    "GFp = GF(0x7FFFFFFFFFFFFFFFFFFFFFFFFFFFFFFFFFFFFFFFFFFFFFFFFFFFFFFFFFFFFFED)\n",
    "A = 486662\n",
    "B = 1\n",
    "ECp = EllipticCurve(GFp, [0, A, 0, 1, 0])"
   ]
  },
  {
   "cell_type": "markdown",
   "id": "ed57360f",
   "metadata": {},
   "source": [
    "##### 基点"
   ]
  },
  {
   "cell_type": "code",
   "execution_count": 87,
   "id": "74052d60",
   "metadata": {
    "vscode": {
     "languageId": "sage"
    }
   },
   "outputs": [],
   "source": [
    "Gx = 9\n",
    "Gy = 0x20AE19A1B8A086B4E01EDD2C7748D14C923D4D7E6D7C61B229E9C5A27ECED3D9\n",
    "G = ECp(Gx, Gy)"
   ]
  },
  {
   "cell_type": "markdown",
   "id": "1231f000",
   "metadata": {},
   "source": [
    "##### Jacobian 坐标系"
   ]
  },
  {
   "cell_type": "code",
   "execution_count": 88,
   "id": "ee881db7",
   "metadata": {
    "vscode": {
     "languageId": "sage"
    }
   },
   "outputs": [
    {
     "name": "stdout",
     "output_type": "stream",
     "text": [
      "基点 G -> J (雅可比坐标)\n",
      "Jx = 0x46bcef0bbbf3097f87969a47e5f675bf0fc7d29108ef747ffd55f290a2fe4555\n",
      "Jy = 0x580359e01a4b6419fe1c84e979fb525007abf529639aba335c8f39b06027eab9\n",
      "Jz = 0x670a70e92c79263a4af500b9d0b939f915edc45abd2d92da4423c0c843f43d84\n"
     ]
    }
   ],
   "source": [
    "Jz = GFp.random_element()\n",
    "Jx = Gx * Jz^2\n",
    "Jy = Gy * Jz^3\n",
    "print(\"基点 G -> J (雅可比坐标)\")\n",
    "print(f\"Jx = {hex(Jx)}\")\n",
    "print(f\"Jy = {hex(Jy)}\")\n",
    "print(f\"Jz = {hex(Jz)}\")"
   ]
  },
  {
   "cell_type": "markdown",
   "id": "bc60cc00",
   "metadata": {},
   "source": [
    "##### 点加法"
   ]
  },
  {
   "cell_type": "code",
   "execution_count": 89,
   "id": "668def61",
   "metadata": {
    "vscode": {
     "languageId": "sage"
    }
   },
   "outputs": [
    {
     "name": "stdout",
     "output_type": "stream",
     "text": [
      "G2 = G + G\n",
      "x = 0x20d342d51873f1b7d9750c687d1571148f3f5ced1e350b5c5cae469cdd684efb\n",
      "y = 0x13b57e011700e8ae050a00945d2ba2f377659eb28d8d391ebcd70465c72df563\n",
      "\n",
      "G3 = G2 + G\n",
      "x = 0x1c12bc1a6d57abe645534d91c21bba64f8824e67621c0859c00a03affb713c12\n",
      "y = 0x2986855cbe387eaeaceea446532c338c536af570f71ef7cf75c665019c41222b\n",
      "\n",
      "G4 = G3 + G\n",
      "x = 0x79ce98b7e0689d7de7d1d074a15b315ffe1805dfcd5d2a230fee85e4550013ef\n",
      "y = 0x75af5bf4ebdc75c8fe26873427d275d73c0fb13da361077a565539f46de1c30\n"
     ]
    }
   ],
   "source": [
    "G2 = G + G\n",
    "G3 = G2 + G\n",
    "G4 = G3 + G\n",
    "x, y = G2.xy()\n",
    "print(\"G2 = G + G\")\n",
    "print(f\"x = {hex(x)}\")\n",
    "print(f\"y = {hex(y)}\")\n",
    "print()\n",
    "x, y = G3.xy()\n",
    "print(\"G3 = G2 + G\")\n",
    "print(f\"x = {hex(x)}\")\n",
    "print(f\"y = {hex(y)}\")\n",
    "print()\n",
    "x, y = G4.xy()\n",
    "print(\"G4 = G3 + G\")\n",
    "print(f\"x = {hex(x)}\")\n",
    "print(f\"y = {hex(y)}\")\n",
    "assert G4 == G2 + G2"
   ]
  },
  {
   "cell_type": "markdown",
   "id": "f5500bab",
   "metadata": {},
   "source": [
    "##### 标量乘法"
   ]
  },
  {
   "cell_type": "code",
   "execution_count": 90,
   "id": "2dbb3b30",
   "metadata": {
    "vscode": {
     "languageId": "sage"
    }
   },
   "outputs": [
    {
     "name": "stdout",
     "output_type": "stream",
     "text": [
      "Gn = G * 28858031113744144219319953636765136992609993254249076323988998198036398117213\n",
      "x = 0x2aa87d5b3e78aab1745f5ce9fd10b12b107cf0e30ae388e7e309030327a59714\n",
      "y = 0x550094a00ca4c5a805bb5e882f20e362e7a164cf920028bf893152f687c5e3b9\n"
     ]
    }
   ],
   "source": [
    "assert G3 == G * 3\n",
    "# n = GFp.random_element()\n",
    "n = 28858031113744144219319953636765136992609993254249076323988998198036398117213\n",
    "Gn = G * n\n",
    "x, y = Gn.xy()\n",
    "print(f\"Gn = G * {n}\")\n",
    "print(f\"x = {hex(x)}\")\n",
    "print(f\"y = {hex(y)}\")"
   ]
  }
 ],
 "metadata": {
  "kernelspec": {
   "display_name": "SageMath 10.7",
   "language": "sage",
   "name": "SageMath-10.7"
  },
  "language_info": {
   "codemirror_mode": {
    "name": "ipython",
    "version": 3
   },
   "file_extension": ".py",
   "mimetype": "text/x-python",
   "name": "python",
   "nbconvert_exporter": "python",
   "pygments_lexer": "ipython3",
   "version": "3.13.3"
  }
 },
 "nbformat": 4,
 "nbformat_minor": 5
}
