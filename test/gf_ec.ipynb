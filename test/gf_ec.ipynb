{
 "cells": [
  {
   "cell_type": "markdown",
   "id": "1d8e50e6",
   "metadata": {},
   "source": [
    "# Elliptic Curve Operation (Sage Math)"
   ]
  },
  {
   "cell_type": "markdown",
   "id": "ea8472ae",
   "metadata": {},
   "source": [
    "## 二元扩域"
   ]
  },
  {
   "cell_type": "markdown",
   "id": "cedbb490",
   "metadata": {},
   "source": [
    "sect163r1、sect163k1"
   ]
  },
  {
   "cell_type": "code",
   "execution_count": null,
   "id": "177626b0",
   "metadata": {
    "vscode": {
     "languageId": "sage"
    }
   },
   "outputs": [],
   "source": [
    "m = 163\n",
    "x = var('x')\n",
    "ip = x^163 + x^7 + x^6 + x^3 + 1\n",
    "GF2m.<z> = GF(2^m, ip)\n",
    "print(f\"ip: {hex(ip.subs(x=2))} -> {ip}\")"
   ]
  },
  {
   "cell_type": "markdown",
   "id": "adcdc886",
   "metadata": {},
   "source": [
    "### 运算"
   ]
  },
  {
   "cell_type": "code",
   "execution_count": null,
   "id": "5181255e",
   "metadata": {
    "vscode": {
     "languageId": "sage"
    }
   },
   "outputs": [],
   "source": [
    "x = GF2m.from_integer(0x1dbfd60b8bc7b317ee5b82b49bc4331d3516c4226)\n",
    "y = GF2m.from_integer(0x3cb11cbd786bf745c8ffa5cfeb34a2e89e3d5514b)\n",
    "# x = GF2m.random_element()\n",
    "# y = GF2m.random_element()\n",
    "print(f\"x: {hex(x.to_integer())} -> {x}\")\n",
    "print(f\"y: {hex(y.to_integer())} -> {y}\")\n",
    "result = x + y\n",
    "print(f\"x + y: {hex(result.to_integer())}\")\n",
    "result = x - y\n",
    "print(f\"x - y: {hex(result.to_integer())}\")\n",
    "result = x * y\n",
    "print(f\"x * y: {hex(result.to_integer())}\")\n",
    "result = x / y\n",
    "print(f\"x / y: {hex(result.to_integer())}\")\n",
    "result = x^2\n",
    "print(f\"x^2: {hex(result.to_integer())}\")\n",
    "result = x^(-1)\n",
    "print(f\"x^(-1): {hex(result.to_integer())}\")\n",
    "result = x.sqrt()\n",
    "print(f\"sqrt(x): {hex(result.to_integer())}\")\n",
    "result = x^(y.to_integer())\n",
    "print(f\"x^y: {hex(result.to_integer())}\")"
   ]
  },
  {
   "cell_type": "markdown",
   "id": "562be122",
   "metadata": {},
   "source": [
    "### 椭圆曲线"
   ]
  },
  {
   "cell_type": "markdown",
   "id": "4b61c8cc",
   "metadata": {},
   "source": [
    "#### 随机椭圆曲线 (sect163r1)"
   ]
  },
  {
   "cell_type": "markdown",
   "id": "12eab1f2",
   "metadata": {},
   "source": [
    "y^2 + x*y = x^3 + A*x^2 + B"
   ]
  },
  {
   "cell_type": "code",
   "execution_count": null,
   "id": "afa1d06b",
   "metadata": {
    "vscode": {
     "languageId": "sage"
    }
   },
   "outputs": [],
   "source": [
    "A = GF2m.from_integer(0x07B6882CAAEFA84F9554FF8428BD88E246D2782AE2)\n",
    "B = GF2m.from_integer(0x0713612DCDDCB40AAB946BDA29CA91F73AF958AFD9)\n",
    "ECb = EllipticCurve(GF2m, [1, A, 0, 0, B])"
   ]
  },
  {
   "cell_type": "markdown",
   "id": "c87caa13",
   "metadata": {},
   "source": [
    "##### 基点"
   ]
  },
  {
   "cell_type": "code",
   "execution_count": null,
   "id": "77e422b5",
   "metadata": {
    "vscode": {
     "languageId": "sage"
    }
   },
   "outputs": [],
   "source": [
    "Gx = GF2m.from_integer(0x0369979697AB43897789566789567F787A7876A654)\n",
    "Gy = GF2m.from_integer(0x00435EDB42EFAFB2989D51FEFCE3C80988F41FF883)\n",
    "G = ECb(Gx, Gy)"
   ]
  },
  {
   "cell_type": "markdown",
   "id": "b9ce061e",
   "metadata": {},
   "source": [
    "##### Jacobian 坐标系"
   ]
  },
  {
   "cell_type": "code",
   "execution_count": null,
   "id": "b439ad6b",
   "metadata": {
    "vscode": {
     "languageId": "sage"
    }
   },
   "outputs": [],
   "source": [
    "Jz = GF2m.random_element()\n",
    "Jx = Gx * Jz^2\n",
    "Jy = Gy * Jz^3\n",
    "print(f\"Jx = {hex(Jx.to_integer())}\")\n",
    "print(f\"Jy = {hex(Jy.to_integer())}\")\n",
    "print(f\"Jz = {hex(Jz.to_integer())}\")"
   ]
  },
  {
   "cell_type": "markdown",
   "id": "2093c74b",
   "metadata": {},
   "source": [
    "##### López-Dahab 坐标系"
   ]
  },
  {
   "cell_type": "code",
   "execution_count": null,
   "id": "ac0df035",
   "metadata": {
    "vscode": {
     "languageId": "sage"
    }
   },
   "outputs": [],
   "source": [
    "# Lz = GF2m.random_element()\n",
    "Lz = GF2m.from_integer(0x4581D79888B23905C7FFFB8B7FEB862BE5F73EB98)\n",
    "Lx = Gx * Lz\n",
    "Ly = Gy * Lz^2\n",
    "print(f\"Lx = {hex(Lx.to_integer())}\")\n",
    "print(f\"Ly = {hex(Ly.to_integer())}\")\n",
    "print(f\"Lz = {hex(Lz.to_integer())}\")"
   ]
  },
  {
   "cell_type": "markdown",
   "id": "e1876240",
   "metadata": {},
   "source": [
    "##### 点加法"
   ]
  },
  {
   "cell_type": "code",
   "execution_count": null,
   "id": "2760fd2c",
   "metadata": {
    "vscode": {
     "languageId": "sage"
    }
   },
   "outputs": [],
   "source": [
    "G2 = G + G\n",
    "G3 = G2 + G\n",
    "G4 = G3 + G\n",
    "x, y = G2.xy()\n",
    "print(\"G2 = G + G\")\n",
    "print(f\"x = {hex(x.to_integer())}\")\n",
    "print(f\"y = {hex(y.to_integer())}\")\n",
    "print()\n",
    "x, y = G3.xy()\n",
    "print(\"G3 = G2 + G\")\n",
    "print(f\"x = {hex(x.to_integer())}\")\n",
    "print(f\"y = {hex(y.to_integer())}\")\n",
    "print()\n",
    "x, y = G4.xy()\n",
    "print(\"G4 = G3 + G\")\n",
    "print(f\"x = {hex(x.to_integer())}\")\n",
    "print(f\"y = {hex(y.to_integer())}\")\n",
    "assert G4 == G2 + G2"
   ]
  },
  {
   "cell_type": "markdown",
   "id": "57916b8b",
   "metadata": {},
   "source": [
    "##### 标量乘法"
   ]
  },
  {
   "cell_type": "code",
   "execution_count": null,
   "id": "43ab63ac",
   "metadata": {
    "vscode": {
     "languageId": "sage"
    }
   },
   "outputs": [],
   "source": [
    "# n = GF2m.random_element().to_integer()\n",
    "n = 8731870941184819475799947245630709385883641160251\n",
    "Gn = G * n\n",
    "x, y = Gn.xy()\n",
    "print(f\"Gn = G * {n}\")\n",
    "print(f\"x = {hex(x.to_integer())}\")\n",
    "print(f\"y = {hex(y.to_integer())}\")"
   ]
  },
  {
   "cell_type": "markdown",
   "id": "c0a59c75",
   "metadata": {},
   "source": [
    "#### Koblitz 曲线  (sect163k1)"
   ]
  },
  {
   "cell_type": "markdown",
   "id": "f98c3953",
   "metadata": {},
   "source": [
    "y^2 + x*y = x^3 + A*x^2 + B"
   ]
  },
  {
   "cell_type": "code",
   "execution_count": null,
   "id": "0392bc74",
   "metadata": {
    "vscode": {
     "languageId": "sage"
    }
   },
   "outputs": [],
   "source": [
    "A = GF2m.from_integer(1)\n",
    "B = GF2m.from_integer(1)\n",
    "ECb = EllipticCurve(GF2m, [1, A, 0, 0, B])"
   ]
  },
  {
   "cell_type": "markdown",
   "id": "34d0e2a4",
   "metadata": {},
   "source": [
    "##### 基点"
   ]
  },
  {
   "cell_type": "code",
   "execution_count": null,
   "id": "74729250",
   "metadata": {
    "vscode": {
     "languageId": "sage"
    }
   },
   "outputs": [],
   "source": [
    "Gx = GF2m.from_integer(0x02FE13C0537BBC11ACAA07D793DE4E6D5E5C94EEE8)\n",
    "Gy = GF2m.from_integer(0x0289070FB05D38FF58321F2E800536D538CCDAA3D9)\n",
    "G = ECb(Gx, Gy)"
   ]
  },
  {
   "cell_type": "markdown",
   "id": "30ec4ce4",
   "metadata": {},
   "source": [
    "##### 点加法"
   ]
  },
  {
   "cell_type": "code",
   "execution_count": null,
   "id": "a49dd5f0",
   "metadata": {
    "vscode": {
     "languageId": "sage"
    }
   },
   "outputs": [],
   "source": [
    "G2 = G + G\n",
    "G3 = G2 + G\n",
    "G4 = G3 + G\n",
    "x, y = G2.xy()\n",
    "print(\"G2 = G + G\")\n",
    "print(f\"x = {hex(x.to_integer())}\")\n",
    "print(f\"y = {hex(y.to_integer())}\")\n",
    "print()\n",
    "x, y = G3.xy()\n",
    "print(\"G3 = G2 + G\")\n",
    "print(f\"x = {hex(x.to_integer())}\")\n",
    "print(f\"y = {hex(y.to_integer())}\")\n",
    "print()\n",
    "x, y = G4.xy()\n",
    "print(\"G4 = G3 + G\")\n",
    "print(f\"x = {hex(x.to_integer())}\")\n",
    "print(f\"y = {hex(y.to_integer())}\")\n",
    "assert G4 == G2 + G2"
   ]
  },
  {
   "cell_type": "markdown",
   "id": "352d35ee",
   "metadata": {},
   "source": [
    "##### 标量乘法"
   ]
  },
  {
   "cell_type": "code",
   "execution_count": null,
   "id": "72410142",
   "metadata": {
    "vscode": {
     "languageId": "sage"
    }
   },
   "outputs": [],
   "source": [
    "# n = GF2m.random_element().to_integer()\n",
    "n = 860749895544662177846543624795725813985896149794\n",
    "Gn = G * n\n",
    "x, y = Gn.xy()\n",
    "print(f\"Gn = G * {n}\")\n",
    "print(f\"x = {hex(x.to_integer())}\")\n",
    "print(f\"y = {hex(y.to_integer())}\")"
   ]
  },
  {
   "cell_type": "markdown",
   "id": "2b337a60",
   "metadata": {},
   "source": [
    "## 素域"
   ]
  },
  {
   "cell_type": "markdown",
   "id": "690ff854",
   "metadata": {},
   "source": [
    "###  运算 (p = 2^255 - 19)"
   ]
  },
  {
   "cell_type": "code",
   "execution_count": null,
   "id": "5b1dd9ca",
   "metadata": {
    "vscode": {
     "languageId": "sage"
    }
   },
   "outputs": [],
   "source": [
    "p = 0x7FFFFFFFFFFFFFFFFFFFFFFFFFFFFFFFFFFFFFFFFFFFFFFFFFFFFFFFFFFFFFED\n",
    "GFp = GF(p)\n",
    "x = GFp(0x6C533682766ED5FB0CF26AF5DD566E29922A5337ED849AAB78F697D80E60D885)\n",
    "y = GFp(0x3DE8BB63832A430EB26B4D6BCCCC49E30B1429B75C14F989A32FD8305E074164)\n",
    "# x = GFp.random_element()\n",
    "# y = GFp.random_element()\n",
    "print(f\"p: {hex(p)} -> {p}\")\n",
    "print(f\"x: {hex(x)} -> {x}\")\n",
    "print(f\"y: {hex(y)} -> {y}\")\n",
    "result = x + y\n",
    "print(f\"x + y: {hex(result)}\")\n",
    "result = x - y\n",
    "print(f\"x - y: {hex(result)}\")\n",
    "result = x * y\n",
    "print(f\"x * y: {hex(result)}\")\n",
    "result = x / y\n",
    "print(f\"x / y: {hex(result)}\")\n",
    "result = x^2\n",
    "print(f\"x^2: {hex(result)}\")\n",
    "result = x^(-1)\n",
    "print(f\"x^(-1): {hex(result)}\")\n",
    "result = x.sqrt()\n",
    "print(f\"sqrt(x): {hex(result)}\")\n",
    "result = x^y\n",
    "print(f\"x^y: {hex(result)}\")"
   ]
  },
  {
   "cell_type": "markdown",
   "id": "d0a316f8",
   "metadata": {},
   "source": [
    "### 椭圆曲线"
   ]
  },
  {
   "cell_type": "markdown",
   "id": "03dcd423",
   "metadata": {},
   "source": [
    "#### Weierstrass 曲线 (secp160r1)"
   ]
  },
  {
   "cell_type": "markdown",
   "id": "ae0c3849",
   "metadata": {},
   "source": [
    "y^2 = x^3 + A*x + B"
   ]
  },
  {
   "cell_type": "code",
   "execution_count": null,
   "id": "94263e5f",
   "metadata": {
    "vscode": {
     "languageId": "sage"
    }
   },
   "outputs": [],
   "source": [
    "p = 0xFFFFFFFFFFFFFFFFFFFFFFFFFFFFFFFF7FFFFFFF\n",
    "GFp = GF(p)\n",
    "A = 0xFFFFFFFFFFFFFFFFFFFFFFFFFFFFFFFF7FFFFFFC\n",
    "B = 0x1C97BEFC54BD7A8B65ACF89F81D4D4ADC565FA45\n",
    "ECp = EllipticCurve(GFp, [0, 0, 0, A, B])"
   ]
  },
  {
   "cell_type": "markdown",
   "id": "82ea177e",
   "metadata": {},
   "source": [
    "##### 基点"
   ]
  },
  {
   "cell_type": "code",
   "execution_count": null,
   "id": "9926f9da",
   "metadata": {
    "vscode": {
     "languageId": "sage"
    }
   },
   "outputs": [],
   "source": [
    "Gx = 0x4A96B5688EF573284664698968C38BB913CBFC82\n",
    "Gy = 0x23A628553168947D59DCC912042351377AC5FB32\n",
    "G = ECp(Gx, Gy)"
   ]
  },
  {
   "cell_type": "markdown",
   "id": "eff1b6a6",
   "metadata": {},
   "source": [
    "##### Jacobian 坐标系"
   ]
  },
  {
   "cell_type": "code",
   "execution_count": null,
   "id": "bbc5f645",
   "metadata": {
    "vscode": {
     "languageId": "sage"
    }
   },
   "outputs": [],
   "source": [
    "Jz = GFp.random_element()\n",
    "Jx = Gx * Jz^2\n",
    "Jy = Gy * Jz^3\n",
    "print(f\"Jx = {hex(Jx)}\")\n",
    "print(f\"Jy = {hex(Jy)}\")\n",
    "print(f\"Jz = {hex(Jz)}\")"
   ]
  },
  {
   "cell_type": "markdown",
   "id": "4664580a",
   "metadata": {},
   "source": [
    "##### 点加法"
   ]
  },
  {
   "cell_type": "code",
   "execution_count": null,
   "id": "8ac8c1ae",
   "metadata": {
    "vscode": {
     "languageId": "sage"
    }
   },
   "outputs": [],
   "source": [
    "G2 = G + G\n",
    "G3 = G2 + G\n",
    "G4 = G3 + G\n",
    "x, y = G2.xy()\n",
    "print(\"G2 = G + G\")\n",
    "print(f\"x = {hex(x)}\")\n",
    "print(f\"y = {hex(y)}\")\n",
    "print()\n",
    "x, y = G3.xy()\n",
    "print(\"G3 = G2 + G\")\n",
    "print(f\"x = {hex(x)}\")\n",
    "print(f\"y = {hex(y)}\")\n",
    "print()\n",
    "x, y = G4.xy()\n",
    "print(\"G4 = G3 + G\")\n",
    "print(f\"x = {hex(x)}\")\n",
    "print(f\"y = {hex(y)}\")\n",
    "assert G4 == G2 + G2"
   ]
  },
  {
   "cell_type": "markdown",
   "id": "7f160193",
   "metadata": {},
   "source": [
    "##### 标量乘法"
   ]
  },
  {
   "cell_type": "code",
   "execution_count": null,
   "id": "9129ef47",
   "metadata": {
    "vscode": {
     "languageId": "sage"
    }
   },
   "outputs": [],
   "source": [
    "# n = GFp.random_element()\n",
    "n = 520883674333875308841598528610693034323391171945\n",
    "Gn = G * n\n",
    "x, y = Gn.xy()\n",
    "print(f\"Gn = G * {n}\")\n",
    "print(f\"x = {hex(x)}\")\n",
    "print(f\"y = {hex(y)}\")"
   ]
  },
  {
   "cell_type": "markdown",
   "id": "c11533c8",
   "metadata": {},
   "source": [
    "#### Montgomery 曲线 (curve25519)"
   ]
  },
  {
   "cell_type": "markdown",
   "id": "bfffce6e",
   "metadata": {},
   "source": [
    "y^2 = x^3 + A*x^2 + x"
   ]
  },
  {
   "cell_type": "code",
   "execution_count": null,
   "id": "f3acd3cf",
   "metadata": {
    "vscode": {
     "languageId": "sage"
    }
   },
   "outputs": [],
   "source": [
    "p = 0x7FFFFFFFFFFFFFFFFFFFFFFFFFFFFFFFFFFFFFFFFFFFFFFFFFFFFFFFFFFFFFED\n",
    "GFp = GF(0x7FFFFFFFFFFFFFFFFFFFFFFFFFFFFFFFFFFFFFFFFFFFFFFFFFFFFFFFFFFFFFED)\n",
    "A = 486662\n",
    "B = 1\n",
    "ECp = EllipticCurve(GFp, [0, A, 0, 1, 0])"
   ]
  },
  {
   "cell_type": "markdown",
   "id": "ed57360f",
   "metadata": {},
   "source": [
    "##### 基点"
   ]
  },
  {
   "cell_type": "code",
   "execution_count": null,
   "id": "74052d60",
   "metadata": {
    "vscode": {
     "languageId": "sage"
    }
   },
   "outputs": [],
   "source": [
    "Gx = 9\n",
    "Gy = 0x20AE19A1B8A086B4E01EDD2C7748D14C923D4D7E6D7C61B229E9C5A27ECED3D9\n",
    "G = ECp(Gx, Gy)"
   ]
  },
  {
   "cell_type": "markdown",
   "id": "1231f000",
   "metadata": {},
   "source": [
    "##### Jacobian 坐标系"
   ]
  },
  {
   "cell_type": "code",
   "execution_count": null,
   "id": "ee881db7",
   "metadata": {
    "vscode": {
     "languageId": "sage"
    }
   },
   "outputs": [],
   "source": [
    "Jz = GFp.random_element()\n",
    "Jx = Gx * Jz^2\n",
    "Jy = Gy * Jz^3\n",
    "print(\"基点 G -> J (雅可比坐标)\")\n",
    "print(f\"Jx = {hex(Jx)}\")\n",
    "print(f\"Jy = {hex(Jy)}\")\n",
    "print(f\"Jz = {hex(Jz)}\")"
   ]
  },
  {
   "cell_type": "markdown",
   "id": "bc60cc00",
   "metadata": {},
   "source": [
    "##### 点加法"
   ]
  },
  {
   "cell_type": "code",
   "execution_count": null,
   "id": "668def61",
   "metadata": {
    "vscode": {
     "languageId": "sage"
    }
   },
   "outputs": [],
   "source": [
    "G2 = G + G\n",
    "G3 = G2 + G\n",
    "G4 = G3 + G\n",
    "x, y = G2.xy()\n",
    "print(\"G2 = G + G\")\n",
    "print(f\"x = {hex(x)}\")\n",
    "print(f\"y = {hex(y)}\")\n",
    "print()\n",
    "x, y = G3.xy()\n",
    "print(\"G3 = G2 + G\")\n",
    "print(f\"x = {hex(x)}\")\n",
    "print(f\"y = {hex(y)}\")\n",
    "print()\n",
    "x, y = G4.xy()\n",
    "print(\"G4 = G3 + G\")\n",
    "print(f\"x = {hex(x)}\")\n",
    "print(f\"y = {hex(y)}\")\n",
    "assert G4 == G2 + G2"
   ]
  },
  {
   "cell_type": "markdown",
   "id": "f5500bab",
   "metadata": {},
   "source": [
    "##### 标量乘法"
   ]
  },
  {
   "cell_type": "code",
   "execution_count": null,
   "id": "2dbb3b30",
   "metadata": {
    "vscode": {
     "languageId": "sage"
    }
   },
   "outputs": [],
   "source": [
    "assert G3 == G * 3\n",
    "# n = GFp.random_element()\n",
    "n = 28858031113744144219319953636765136992609993254249076323988998198036398117213\n",
    "Gn = G * n\n",
    "x, y = Gn.xy()\n",
    "print(f\"Gn = G * {n}\")\n",
    "print(f\"x = {hex(x)}\")\n",
    "print(f\"y = {hex(y)}\")"
   ]
  }
 ],
 "metadata": {
  "kernelspec": {
   "display_name": "SageMath 10.7",
   "language": "sage",
   "name": "SageMath-10.7"
  },
  "language_info": {
   "codemirror_mode": {
    "name": "ipython",
    "version": 3
   },
   "file_extension": ".py",
   "mimetype": "text/x-python",
   "name": "python",
   "nbconvert_exporter": "python",
   "pygments_lexer": "ipython3",
   "version": "3.13.3"
  }
 },
 "nbformat": 4,
 "nbformat_minor": 5
}
